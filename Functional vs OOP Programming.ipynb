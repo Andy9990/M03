{
 "cells": [
  {
   "cell_type": "code",
   "execution_count": 5,
   "id": "6c746743-1361-4c40-96c1-60665ae6f170",
   "metadata": {},
   "outputs": [],
   "source": [
    "class Solution:\n",
    "    def sort012(self,arr,n):\n",
    "        low=0\n",
    "        high=n-1\n",
    "        mid=0\n",
    "        \n",
    "        #iterating until mid pointer is less than or equal to high.\n",
    "        while mid<=high:\n",
    "            \n",
    "            #if element at mid is 0, swap with element at low and move both pointers.\n",
    "            if arr[mid]==0:\n",
    "                arr[mid] , arr[low] = arr[low] , arr[mid]\n",
    "                mid+=1\n",
    "                low+=1\n",
    "                \n",
    "            #if element at mid is 1, move mid pointer.\n",
    "            elif arr[mid]==1:\n",
    "                mid+=1\n",
    "                \n",
    "            #if element at mid is 2, swap with element at high and move high pointer.\n",
    "            else:\n",
    "                arr[mid] , arr[high] = arr[high] , arr[mid]\n",
    "                high-=1"
   ]
  },
  {
   "cell_type": "code",
   "execution_count": null,
   "id": "e4be9ca9-a3cb-4d45-adee-5e0a48eae777",
   "metadata": {},
   "outputs": [],
   "source": [
    "class Solution:\n",
    "    def binarySearch(arr, l, r, x):\n",
    "\n",
    "        while l <= r:\n",
    "    \n",
    "            mid = l + (r - l) // 2\n",
    "    \n",
    "            # Check if x is present at mid\n",
    "            if arr[mid] == x:\n",
    "                return mid\n",
    "    \n",
    "            # If x is greater, ignore left half\n",
    "            elif arr[mid] < x:\n",
    "                l = mid + 1\n",
    "    \n",
    "            # If x is smaller, ignore right half\n",
    "            else:\n",
    "                r = mid - 1\n",
    "    \n",
    "        # If we reach here, then the element\n",
    "        # was not present\n",
    "        return -1\n",
    "    \n",
    "    \n",
    "    # Driver Code\n",
    "    arr = [2, 3, 4, 10, 40]\n",
    "    x = 10\n",
    "    \n",
    "    # Function call\n",
    "    result = binarySearch(arr, 0, len(arr)-1, x)\n",
    "    \n",
    "    if result != -1:\n",
    "        print(\"Element is present at index % d\" % result)\n",
    "    else:\n",
    "        print(\"Element is not present in array\")"
   ]
  }
 ],
 "metadata": {
  "kernelspec": {
   "display_name": "Python 3 (ipykernel)",
   "language": "python",
   "name": "python3"
  },
  "language_info": {
   "codemirror_mode": {
    "name": "ipython",
    "version": 3
   },
   "file_extension": ".py",
   "mimetype": "text/x-python",
   "name": "python",
   "nbconvert_exporter": "python",
   "pygments_lexer": "ipython3",
   "version": "3.11.7"
  }
 },
 "nbformat": 4,
 "nbformat_minor": 5
}
