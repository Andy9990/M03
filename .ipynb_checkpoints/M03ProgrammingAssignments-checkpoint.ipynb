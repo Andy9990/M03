{
 "cells": [
  {
   "cell_type": "code",
   "execution_count": 5,
   "id": "36bc93bb-c3ea-4a7d-af17-3b20e3d6a0ca",
   "metadata": {},
   "outputs": [],
   "source": [
    "thing=[\"mozzarella\", \"cinderella \", \"salmonella \"]"
   ]
  },
  {
   "cell_type": "code",
   "execution_count": 7,
   "id": "e2675516-2304-423e-b4b1-cea4edcede64",
   "metadata": {},
   "outputs": [
    {
     "name": "stdout",
     "output_type": "stream",
     "text": [
      "['mozzarella', 'Cinderella ', 'salmonella ']\n"
     ]
    }
   ],
   "source": [
    "thing[1]=thing[1].capitalize()\n",
    "print(thing)"
   ]
  },
  {
   "cell_type": "code",
   "execution_count": 9,
   "id": "0e097158-c199-4525-8126-0017e61a6778",
   "metadata": {},
   "outputs": [
    {
     "name": "stdout",
     "output_type": "stream",
     "text": [
      "['MOZZARELLA', 'Cinderella ', 'salmonella ']\n"
     ]
    }
   ],
   "source": [
    "thing[0]=thing[0].upper()\n",
    "print(thing)"
   ]
  },
  {
   "cell_type": "code",
   "execution_count": 11,
   "id": "4d2fcb71-5bd4-42b0-9372-55db96879a12",
   "metadata": {},
   "outputs": [
    {
     "name": "stdout",
     "output_type": "stream",
     "text": [
      "['MOZZARELLA', 'Cinderella ']\n"
     ]
    }
   ],
   "source": [
    "thing.remove(thing[2])\n",
    "print(thing)"
   ]
  },
  {
   "cell_type": "code",
   "execution_count": 27,
   "id": "094489a8-8429-42be-8010-6806c974c51a",
   "metadata": {},
   "outputs": [],
   "source": [
    "def good():\n",
    "  list_1 = ['Harry', 'Ron', 'Hermione']\n",
    "  return list_1"
   ]
  },
  {
   "cell_type": "code",
   "execution_count": 19,
   "id": "810a0b2b-18aa-4f69-b799-0b4e4e4ea056",
   "metadata": {},
   "outputs": [
    {
     "name": "stdout",
     "output_type": "stream",
     "text": [
      "5\n"
     ]
    }
   ],
   "source": [
    "def get_odds():\n",
    "    for num in range(10):\n",
    "        if num % 2 != 0:\n",
    "            yield num\n",
    "\n",
    "# Use the generator function in a for loop\n",
    "count = 0\n",
    "for num in get_odds():\n",
    "    if count == 2:\n",
    "        print(num)\n",
    "        break\n",
    "    count += 1"
   ]
  }
 ],
 "metadata": {
  "kernelspec": {
   "display_name": "Python 3 (ipykernel)",
   "language": "python",
   "name": "python3"
  },
  "language_info": {
   "codemirror_mode": {
    "name": "ipython",
    "version": 3
   },
   "file_extension": ".py",
   "mimetype": "text/x-python",
   "name": "python",
   "nbconvert_exporter": "python",
   "pygments_lexer": "ipython3",
   "version": "3.11.7"
  }
 },
 "nbformat": 4,
 "nbformat_minor": 5
}
